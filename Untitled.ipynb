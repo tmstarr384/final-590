{
 "cells": [
  {
   "cell_type": "code",
   "execution_count": 2,
   "metadata": {},
   "outputs": [],
   "source": [
    "import numpy as np"
   ]
  },
  {
   "cell_type": "code",
   "execution_count": 3,
   "metadata": {},
   "outputs": [],
   "source": [
    "'''\n",
    "Neural Network code from: \n",
    "https://towardsdatascience.com/how-to-build-your-own-neural-network-from-scratch-in-python-68998a08e4f6\n",
    "'''\n",
    "\n",
    "class NeuralNetwork:\n",
    "    def __init__(self, x, y):\n",
    "        self.input      = x\n",
    "        self.weights1   = np.random.rand(self.input.shape[1],4) \n",
    "        self.weights2   = np.random.rand(4,1)                 \n",
    "        self.y          = y\n",
    "        self.output     = np.zeros(self.y.shape)\n",
    "\n",
    "    def feedforward(self):\n",
    "        self.layer1 = sigmoid(np.dot(self.input, self.weights1))\n",
    "        self.output = sigmoid(np.dot(self.layer1, self.weights2))\n",
    "\n",
    "    def backprop(self):\n",
    "        # application of the chain rule to find derivative of the loss function with respect to weights2 and weights1\n",
    "        d_weights2 = np.dot(self.layer1.T, (2*(self.y - self.output) * sigmoid_derivative(self.output)))\n",
    "        d_weights1 = np.dot(self.input.T,  (np.dot(2*(self.y - self.output) * sigmoid_derivative(self.output), self.weights2.T) * sigmoid_derivative(self.layer1)))\n",
    "\n",
    "        # update the weights with the derivative (slope) of the loss function\n",
    "        self.weights1 += d_weights1\n",
    "        self.weights2 += d_weights2"
   ]
  },
  {
   "cell_type": "code",
   "execution_count": 13,
   "metadata": {},
   "outputs": [
    {
     "name": "stdout",
     "output_type": "stream",
     "text": [
      "\n",
      "Input:\n",
      "[[0 0 1]\n",
      " [0 1 1]\n",
      " [1 0 1]\n",
      " [1 1 1]]\n",
      "\n",
      "Weights 1:\n",
      "[[0.06843371 0.75815605 0.98511719 0.76126389]\n",
      " [0.03072592 0.25537241 0.9894875  0.70050109]\n",
      " [0.69258912 0.80088385 0.85315376 0.33185698]]\n",
      "\n",
      "Weights 2:\n",
      "[[0.12990763]\n",
      " [0.01862798]\n",
      " [0.45307185]\n",
      " [0.14652313]]\n",
      "\n",
      "y:\n",
      "[0 1 1 0]\n",
      "\n",
      "Output:\n",
      "[0. 0. 0. 0.]\n"
     ]
    }
   ],
   "source": [
    "X = np.array([[0,0,1],[0,1,1],[1,0,1],[1,1,1]])\n",
    "Y = np.array([0,1,1,0])\n",
    "\n",
    "def printNN(nn):\n",
    "    print(\"\\nInput:\\n\" + str(nn.input))\n",
    "    print(\"\\nWeights 1:\\n\" + str(nn.weights1))\n",
    "    print(\"\\nWeights 2:\\n\" + str(nn.weights2))\n",
    "    print(\"\\ny:\\n\" + str(nn.y))\n",
    "    print(\"\\nOutput:\\n\" + str(nn.output))\n",
    "    \n",
    "nn = NeuralNetwork(X,Y)\n",
    "printNN(nn)"
   ]
  }
 ],
 "metadata": {
  "kernelspec": {
   "display_name": "Python 3",
   "language": "python",
   "name": "python3"
  },
  "language_info": {
   "codemirror_mode": {
    "name": "ipython",
    "version": 3
   },
   "file_extension": ".py",
   "mimetype": "text/x-python",
   "name": "python",
   "nbconvert_exporter": "python",
   "pygments_lexer": "ipython3",
   "version": "3.7.3"
  }
 },
 "nbformat": 4,
 "nbformat_minor": 2
}
