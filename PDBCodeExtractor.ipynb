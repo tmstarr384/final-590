{
 "cells": [
  {
   "cell_type": "code",
   "execution_count": 2,
   "metadata": {},
   "outputs": [
    {
     "name": "stdout",
     "output_type": "stream",
     "text": [
      "<class 'pandas.core.frame.DataFrame'>\n",
      "RangeIndex: 2594 entries, 0 to 2593\n",
      "Data columns (total 15 columns):\n",
      " #   Column          Non-Null Count  Dtype  \n",
      "---  ------          --------------  -----  \n",
      " 0   ID              2594 non-null   int64  \n",
      " 1   PDB code        2594 non-null   object \n",
      " 2   Subset          2594 non-null   object \n",
      " 3   Resolution      2594 non-null   object \n",
      " 4   Affinity Data   2594 non-null   object \n",
      " 5   pKd pKi pIC50   2594 non-null   float64\n",
      " 6   Release Year    2594 non-null   int64  \n",
      " 7   Protein Name    2594 non-null   object \n",
      " 8   Ligand Name     2594 non-null   object \n",
      " 9   EC number       2594 non-null   object \n",
      " 10  PubmedID        2488 non-null   float64\n",
      " 11  PubchemSID      2565 non-null   float64\n",
      " 12  Reference       2594 non-null   object \n",
      " 13  UniProtKB AC    2554 non-null   object \n",
      " 14  Entrez Gene ID  0 non-null      float64\n",
      "dtypes: float64(4), int64(2), object(9)\n",
      "memory usage: 304.1+ KB\n",
      "\n",
      "\n",
      "Batch 0:\n",
      "1a22 1a2k 1a3b 1a4y 1acb 1ahw 1ak4 1akj 1an1 1atn 1ava 1avg 1avx 1avz 1axi 1ay7 1azz 1b27 1b2s 1b2u 1b3s 1b6c 1bj1 1bql 1brs 1bth 1buh 1bvk 1bvn 1c9p 1c9t 1ca0 1cbw 1clv 1cmx 1cn4 1cz8 1d6r 1i2m 1ktk 1de4 1dee 1dfj 1dhk 1dit 1djs 1dp5 1dpj 1dqj 1du3 1dzb 1e3u 1e4k 1e6e 1e6j 1e96 1eaw 1eer 1ees 1efn 1efx 1eja 1emv 1eo8 1es0 1ewy 1ezs 1ezu 1f34 1f3v 1f5r 1f7z 1fak 1fc2 1fe8 1ffw 1ffx 1fg9 1fle 1flt 1fmo 1fqj 1fsk 1fy8 1g0v 1g5j 1g6v 1g9i 1gcq 1gl0 1gl1 1gla 1gng 1go4 1gpw 1grn 1gua 1gxd 1h0t 1h1v 1h59 1hcf 1he8 1hez 1hia 1hqr 1hrt 1hxy 1i3o 1i4d 1i4e 1i51 1i5k 1i8k 1i8l 1ib1 1ibr 1icf 1id5 1ihs 1ijk 1iqd 1j2j 1j7d 1j7v 1jgn 1jh4 1jiw 1jmo 1jps 1jrh 1jsp 1jtd 1jtg 1jwh 1k2d 1k5d 1k93 1kac 1kbh 1kgy 1kig 1kkl 1ktz 1kxp 1kxq 1kxt 1kxv 1l0x 1l0y 1l2w 1l4d 1l4z 1l8c 1ldt 1lfd 1lj2 1lm8 1lp1 1lqb 1lqs 1lw6 1lx5 1lzw 1m10 1m1e 1m5n 1mah 1mcv 1mhh 1mi5 1mlc 1mq8 1mtn 1mxe 1mzw 1n64 1nb5 1nca 1qa9 1u7f 1u7v 1vet 1veu 1nez 1nf3 1nl0 1nm5 1nma 1nsn 1nvu 1nw9 1nys 1nyu 1o94 1o95 1o9a 1ob1 1oc0 1oey 1ogy 1op9 1oph 1oqe 1otr 1oyh 1oyv 1ozs 1p0s 1p1z 1p22 1p27 1p2c 1p3q 1p4b 1p4l 1p69 1p6a 1p9d 1p9m 1pd7 1pjm 1pjn 1pk1 1ppe 1psb 1pvh 1pxv 1q0w 1q5w 1q68 1q69 1qfu 1qfw 1qse 1qty 1qur 1r0r 1r6q 1r8u 1ri8 1rjc 1rkc 1rke 1rlb 1rpq 1rv6 1rvj 1ry7 1s1q 1s4y 1sb0 1sbb 1sg1 1shy 1shz 1smf 1sq0 1sv0 1sy6 1syq 1t01 1t0p 1t44 1t5z 1t63 1t6b 1ta3 1taw 1tba 1tbq 1tbr 1tdq 1te1 1th1 1tlh 1tm1 1tm3 1tm4 1tm5 1tm7 1to1 1toc 1tt5 1ty4 1tzh 1tzi 1tzn 1u0i 1u0s 1u5s 1uad 1uel 1uex 1ugh 1ul1 1us7 1usu 1usv 1uug 1uuz 1uwx 1v18 1v7p 1vfb 1vg0 1vpp 1vrc 1vrk 1vsq 1vyh 1vyt 1w1w 1w72 1wa7 1wa8 1wdw 1wej 1wlp 1wpx 1wq1 1wqj 1wr1 1wr6 1wrd 1wve 1x1u 1x1w 1x1x 1x1y 1x75 1xd3 1xdt 1xg2 1xj7 1xqh 1xqs 1xr0 1xt9 1xu1 1xwd 1xx9 1xxd 1xxf 1y1k 1y33 1y34 1y3b 2ftl 2ftm 2fu5 2j6e 2l9s 1y3c 1y3d 1y48 1y4a 1y4d 1y6k 1y6m 1y6n 1y76 1y8n 1yc0 1ycs 1yd8 1ydi 1yk0 1yk1 1yrt 1yru 1yvb 1yx5 1yx6 1yy9 1yyl 1yym 1z0k 1z5s 1z7x 1z92 1za3 1zc3 1zc4 1ze3 1zgu 1zhi 1zjd 1zli 1zm4 1zmy 1zr0 1zsg 1zv5 1zvh 1zvy 2a24 2a6d 2a6i 2a6k 2a78 2a7u 2a9h 2a9k 2abz 2aep 2aeq 2ajf 2ak4 2aq1 2aq2 2aq3 2arp 2ass 2ast 2aw2 2aze 2b0z 2b10 2b11 2b12 2b2w 2b2x 2b42 2b4j 2b5i 2b7c 2b87 2bdn 2be6 2bnq 2bnr 2bo9 2bp7 2bqz 2btf 2bwe 2byk 2bym 2c0l 2c1m 2c1t 2c5d 2c7m 2c7n 2cjs 2cmr 2cpk 2d10 2d1k 2dd8 2den 2djy 2dsp 2dsq 2dsr 2dx5 2efd 2efh 2erj 2es4 2f31 2f4m 2f5z 2f6a 2f9z 2fdb 2few 2fjg 2fjh 2fju 2fuh 2fyl 2g2u 2g2w 2g45 2g81 2g9h 2gh0 2gl7 2gng 2gox 2gww 2h4m 2h62 2h64 2h9g 2hd5 2hev 2hfg 2hle 2hqs 2hqw 2hrk 2hsq 2hth 2hwn 2i25 2i26 2i32 2i3s 2i3t 2i5y 2i60 2i9b 2ibf 2iff 2ifg 2ihs 2ij0 2ijo 2iou 2iwg 2ixq 2iy0 2iy1 2iyb 2j0t 2j12 2j1k 2j4w 2j59 2j5l 2j7p 2j8s 2j8u 2j8x 2jby 2jcc 2jel 2jgz 2jix 2jjs 2jjt 2jki 2jod 2jt4 2jti 2jtt 2ju0 2jy6 2jzn 2k05 2k2s 2k2u 2k3s 2k3u 2k42 2k5b 2k6d 2k79 2k7a 2k8b 2k8c 2k8f 2ka4 2ka6 2kbw 2kc8 2kde 2kgx 2khs 2ki4 2kj4 2knb 2kqs 2kri 2kt5 2ktf 2kvq 2kwi 2kwj 2kwk 2kwo 2kwu 2kwv 2kxh 2kxw 2kyg 2l0f 2l0t 2l14 2l1l 2l29 2l2l 2ld7 2leh 2lfw 2lkm 2lnh 2lnk 2lox 2lp0 2lp4 2lpb 2lqc 2lqh 2luh 2lvo 2lvp 2lvq 2lww 2lxm 2lxp 2ly4 2lz6 2m04 2m0g 2m0j 2omu 2omv 2omw 2omx 2omy 2omz 2onl 2pw8 2m49 2m55 2m5a 2m5b 2m86 2ma9 2mak 2mbb 2mcn 2mej 2mfq 2mj5 2mjw 2mkc 2mlx 2mly 2mlz 2mnu 2mp0 2mre 2mro 2mta 2mur 2mv7 2mws 2mzd 2n01 2n13 2n1d 2n2h 2n73 2n8j 2nbv 2noj 2nqd 2nup 2nut 2nyy 2nyz 2nz1 2nz9 2o3b 2o8v 2o98 2odg 2ody 2oin 2oje 2omt 2oob 2oor 2oqj 2ot3 2ot8 2otk 2oul 2oza 2p1l 2p3f 2p42 2p43 2p44 2p45 2p46 2p47 2p48 2p49 2p4a 2p5e 2p5t 2p8q 2pcb 2pcc 2phe 2pjy 2pkg 2pms 2pon 2pop 2psm 2ptc 2ptt 2px9 2pye 2q0o 2q5d 2q7n 2qc1 2qej 2qho 2qiy 2qj9 2qja 2qjb 2qna 2qr0 2qur 2qxv 2r0k 2r0l 2r56 2r9p 2ra3 2rf9 2rgn 2rmk 2rms 2rnr 2roz 2rr3 2ru4 2ruk 2rvb 2sic 2sni 2tgp 2uuy 2uwe 2uxn 2uyz 2uzi 2v1d 2v2w 2v3b 2v4z 2v51 2v52 2v5q 2v6x 2v8s 2v9t 2vay 2vda 2vdb 2ve7 2ver 2vfx 2vir 2vis 2vlj 2vln 2vlo 2vlp 2vlq 2vlr 2vof 2vog 2voh 2voi 2vsm 2vwe 2vxq 2vxs 2vxt 2vyr 2w19 2w2m 2w2n 2w2x 2w80 2w81 2w83 2w84 2w8b 2w9e 2wbj 2wby 2wd5 2wel 2wfx 2wg3 2wg4 2wh6 2wii 2wjv 2wo2 2wo3 2wp0 2wp3 2wpt 2wqz 2wss 2wub 2wuc 2wus 2wvw 2wwk 2wwx 2wx0 2wy2 2wy3 2wy8 2x1w 2x1x 2x2d 2x89 2x9a 2xa0 2xb6 2xbb 2xdf 2xgy 2xhe 2z3r 2zxx 2xns 2xpx 2xqb 2xqr 2xqw 2xra 2xtj 2xtt 2xzd 2xze 2y0b 2y48 2y5b 2y6t 2y8s 2y8t 2y9m 2ybr 2ygg 2yj1 2ypl 2ypv 2yq7 2yvj 2z34 2z3q 2z58 2z7f 2z8v 2z8w 2za4 2zvk 2zvn 2zvo 3a4s 3a67 3a6b 3a6c 3aa0 3aa6 3aaa 3ajb 3alz 3aon 3b4v 3ehu 3fxd 3au4 3ay4 3b08 3b23 3b2u 3b2v 3b9f 3bdy 3be1 3beg 3bg4 3bgf 3bh6 3bik 3biw 3bk3 3bky 3blh 3bn3 3bow 3bp8 3bpl 3bpn 3bpo 3brt 3brv 3bs5 3bx1 3bzd 3c09 3c4m 3c4o 3c4p 3c59 3c5t 3c66 3c8k 3c9a 3ch5 3chw 3cqc 3cqg 3cqx 3crk 3cx6 3cx7 3cx8 3d1m 3d2u 3d39 3d3v 3d5o 3d5r 3d5s 3d7t 3d7u 3da7 3dbh 3dbl 3dbr 3dco 3ddc 3dgc 3di2 3di3 3dmm 3doe 3dvg 3dvm 3dvn 3dvu 3dxa 3dxc 3dxd 3dxe 3e1z 3e2h 3e2k 3e2l 3e2u 3e3q 3eab 3eba 3ech 3eg5 3egg 3eiq 3ejh 3ejj 3eo1 3eoa 3eob 3eoy 3etb 3ew3 3f1p 3f4y 3f50 3f5c 3f7p 3ff7 3ff8 3ffc 3fhc 3fie 3fii 3fju 3fku 3fp6 3fpu 3fsh 3g7a 3g7z 3h9h 3kr3 3g3a 3g3b 3g6d 3g6j 3g9v 3g9w 3gb8 3gc3 3gd1 3gj3 3gj4 3gj5 3gj6 3gj7 3gj8 3gjf\n",
      "\n",
      "Batch 1:\n",
      "3gjn 3gmw 3gni 3gqi 3gs2 3gsn 3gty 3gxu 3h2u 3h2v 3h3g 3h3p 3h42 3h6g 3h6s 3h7b 3h8d 3h8k 3hae 3hct 3hcu 3he6 3he7 3hg0 3hh2 3hi1 3hi6 3ho5 3hpw 3htu 3hug 3huj 3ia3 3idb 3idc 3idx 3idy 3ifq 3im4 3inb 3iol 3it8 3iu3 3ixa 3ixe 3ixs 3ixt 3jrm 3jse 3jsv 3jtl 3jvf 3jza 3k1r 3k2m 3k2u 3k3q 3k6g 3k75 3k8p 3k9m 3kbt 3kj0 3kj1 3kj2 3kls 3knb 3kpr 3kps 3kuc 3kud 3kv4 3kw5 3kxf 3kyi 3kz0 3kz1 3l33 3l5n 3l5w 3l5x 3l89 3l95 3l9j 3laq 3lb6 3lb8 3lbx 3lev 3lh2 3lhp 3lk2 3lk3 3lk4 3lms 3lqa 3m0a 3m18 3m63 3m9d 3ma2 3ma9 3mac 3mc0 3mca 3me2 3olm 3ona 3p8m 3p92 3p95 3qdg 3qdj 3mhp 3mj7 3mj9 3mjh 3mv7 3mv8 3mv9 3mxw 3mzg 3mzw 3n00 3n06 3n0p 3n4i 3n85 3ncb 3ncc 3nfp 3ngb 3nh7 3noc 3nog 3nps 3npz 3nvn 3nvq 3o34 3o40 3o43 3o4o 3o5t 3o6b 3o6f 3o6q 3o8x 3o9w 3oak 3oed 3ogo 3ohm 3oiq 3oj2 3ojm 3oky 3ol2 3onl 3onw 3opz 3orv 3osl 3oun 3ouw 3oux 3owt 3oxu 3p0y 3p11 3p6z 3p71 3p9w 3pbp 3pl6 3pmh 3pnr 3pp4 3pvm 3q1s 3q3g 3q4f 3q9n 3q9u 3qbq 3qbr 3qbt 3qbv 3qc8 3qdm 3qeq 3qht 3qhy 3qi2 3qib 3qiu 3qiw 3qlu 3qml 3qq8 3qs7 3qsk 3qt2 3qtl 3qux 3quy 3quz 3qwo 3qwq 3qwr 3rdt 3rdz 3rea 3reb 3sdy 3sf4 3sgb 3sgk 3tei 3tvj 3tvm 3r0l 3r1g 3r2x 3r4d 3r85 3r9a 3rbb 3rgf 3rgv 3rk3 3rkd 3ro2 3rpg 3rt0 3rtq 3ru8 3rug 3rvv 3rvw 3ry6 3rzc 3rzw 3s2k 3s4s 3s5l 3s8v 3scm 3sda 3sdc 3sdd 3sip 3sja 3sjd 3sjh 3sjv 3skj 3sku 3so3 3sqo 3sri 3ssb 3sua 3swp 3syn 3t04 3t0y 3t1q 3t2n 3t4a 3t6g 3tac 3tg1 3tgk 3thm 3tje 3tjz 3tkl 3tl8 3tn0 3tnf 3to4 3tq7 3tsr 3tu3 3twi 3uai 3uaj 4auo 4auq 4c4k 4c4p 4dck 4dcn 3tz1 3u1j 3u43 3u82 3u8x 3u9d 3u9z 3uc0 3uez 3uir 3ujg 3ukw 3ukx 3ukz 3ul0 3ul1 3ul4 3ula 3uts 3ux9 3uyo 3uyp 3uz0 3uze 3uzq 3uzv 3v1c 3v3k 3v4y 3v62 3v6b 3v6o 3v6z 3v96 3ve0 3vep 3vfm 3vfn 3vfo 3vfp 3vfr 3vfs 3vft 3vfu 3vfv 3vfw 3vg9 3vh8 3vhx 3vpj 3vux 3vv2 3vwj 3vwk 3vxr 3vxs 3vxu 3vyr 3vys 3vza 3w2d 3w6j 3w8h 3w8i 3w9e 3wa0 3wa5 3wd5 3wdg 3wih 3wkn 3wkt 3wn5 3wn7 3wo3 3wo4 3wqb 3wrx 3wry 3wwk 3wwn 3wwq 3zet 3zeu 3zia 3zjy 3zkq 3znz 3zo0 3zrz 3zs8 3zs9 3zu7 3zuv 3zv0 3zwh 3zwl 3zwz 3zyi 3zyj 4a1s 4a1u 4a49 4a94 4aei 4afq 4afz 4ag2 4al8 4ala 4am0 4an7 4aoq 4aor 4ap2 4apf 4apx 4aqe 4asw 4awx 4ayd 4aye 4ayi 4b0m 4b1v 4b1x 4b1y 4b93 4bd9 4bfi 4bj5 4bkl 4bkx 4boh 4bpk 4bpx 4bq6 4bqd 4bru 4brw 4bsr 4bwq 4bxl 4bxz 4byf 4c1n 4c2a 4c2b 4c5g 4c7n 4c99 4c9b 4cc4 4cdk 4cj0 4cj1 4cj2 4cmh 4cmm 4cni 4ct0 4cu4 4cvw 4d0g 4d0n 4d2g 4d9q 4d9r 4day 4dbg 4dg4 4dge 4dgi 4dh2 4di3 4did 4dj9 4djz 4dkd 4dke 4dkf 4dm6 4dm8 4dn4 4doh 4doq 4dpg 4dra 4drb 4drx 4ds8 4dt1 4dtg 4dvg 4dx8 4dxa 4dzu 4dzv 4e05 4e41 4e42 4eah 4edw 4eee 4eef 4ehq 4ei5 4eig 4eiz 4ekc 4ekd 4elm 4en3 4eo5 4eoz 4eqa 4ers 4etp 4etq 4etw 4euk 4exp 4f0a 4f0z 4f37 4f38 4f3f 4f48 4f6r 4f9l 4f9p 4fao 4ffy 4ffz 4jlr 4jmf 4k5a 4fq0 4fqi 4fqj 4fqr 4fqv 4fqy 4ft4 4ftg 4fxg 4fza 4fzv 4g01 4g35 4g3y 4g4s 4g59 4g6f 4g6j 4g6m 4g6u 4g6v 4g8a 4g8g 4g9f 4gaf 4geh 4geq 4gg6 4gh7 4gi3 4giq 4gko 4gla 4glv 4gms 4gn3 4gn4 4gn5 4gnk 4grl 4gu0 4gur 4gxu 4h1l 4h2s 4h2w 4h3p 4h5s 4h6j 4h88 4hcn 4hcp 4hdo 4hdq 4hem 4hep 4hff 4hfk 4hgk 4hgm 4hh3 4hix 4hj0 4hjj 4hkj 4hkx 4hlz 4hmy 4hnj 4hrl 4hsa 4hx3 4i0c 4i18 4i2x 4i3r 4i6l 4i77 4i9x 4ic7 4idj 4ihh 4ihl 4iiq 4ij3 4ika 4ilg 4ilw 4imy 4iof 4iop 4ios 4iu3 4iw4 4iyp 4j2l 4j2y 4j32 4j4p 4j6g 4jan 4jb8 4je4 4jeg 4jeh 4jeu 4jgh 4jkp 4jo6 4jpk 4jra 4jrx 4jry 4js0 4jw2 4jw3 4jzj 4jzw 4k0a 4k1r 4k24 4k2u 4k3j 4k5b 4k71 4k81 4k94 4k9e 4ka2 4kbb 4kdi 4kfz 4kgg 4kgq 4kht 4khx 4kjy 4kp3 4kr0 4krl 4kro 4krp 4ksd 4kt1 4kt3 4kt5 4kv5 4kvg 4kvn 4kxz 4l0p 4l67 4lad 4leo 4lgp 4lgr 4liq 4llo 4lmq 4ln0 4lqf 4lqw 4lrx 4lrz 4lu5 4lxr 4lyl 4lzx 4m0w 4m1g 4m1l 4m38 4m5f 4m5z 4m62 4m6b 4m8q 4may 4mhh 4mhj 4mi8 4mit 4mjs 4ml7 4mne 4mp0 4mqv 4mqw 4mrt 4msm 4myw 4n7v 4n7z 4n8c 4n8v 4n9g 4naw 4ne9 4nee 4ng2 4niq 4nl9 4nm3 4nm8 4nn6 4noo 4np4 4nqw 4nso 4nst 4nu1 4nzl 4nzw 4p9h 4pas 4udm 4o1q 4o27 4od2 4odx 4ofy 4ojk 4ol0 4ons 4oqt 4ov6 4ovn 4oyd 4ozf 4ozg 4ozh 4ozi 4p1n 4p23 4p2c 4p2o 4p2q 4p2r 4p3y 4p46 4p59 4p5t 4p6i 4pbv 4pbw 4pbz 4pc0 4peq 4per 4pgj 4pj2 4pj5 4pj7 4pj8 4pj9 4pja 4pjb 4pjc 4pjd 4pje 4pjf 4pjg 4pjh 4pjx 4pl8 4plo 4pou 4pp8 4pqt 4ps4 4pvz 4pw9 4pwx 4py8 4pz6 4q5e 4q5u 4q96 4qci 4qd2 4qlb 4qlp 4qnp 4qrp 4qt8 4qti 4qxa 4qzv 4r2g 4r8g 4r8i 4r8w 4ra0 4rdq 4re1 4rey 4rgm 4rgo 4rjf 4rs1 4rt6 4rws 4rwt 4s0s 4s3o 4thn 4tq0 4tq1 4u0q 4u2x 4u30 4u32 4u3j 4u4c 4u5w 4u6h 4u6v 4u97 4uem 4uf1 4ui0 4ui1 4uu9 4uuz 4uwq 4uwx 4uyp 4uyq 4v0m 4v0n 4v0o 4v2c 4v3k 4w4l 4w4o 4w6w 4w6x 4w6y 4wb2 4wem 4wen 4weu 4wfd 4wnd 4wnn 4wo4 4wuu 4wv1 4ww2 4wwi 4wwk 4x33 4x4m 4x7d 4x7e 4x7f 4x7s 4xvp 4xwj 4ydh 4yeb 4xhj 4xhu 4xi5 4xkh 4xkl 4xl1 4xl5 4xlw 4xnm 4xoi 4xr8 4xxb 4xxw 4y5o 4y61 4ybl 4yc7 4yh7 4yiq 4yiz 4yj4 4yk4 4yl8 4yn0 4yoc 4ypg 4ypi 4yvq 4ywc 4yyp 4z2m 4z5r 4z80 4z8l 4z9k 4z9v 4zak 4zff 4zfg 4zfo 4zgm 4zgq 4zgy 4zi2 4zi3 4zii 4zk9 4zkc 4zlt 4zpt 4zqu 4zrj 4zrk 4zrp 4zs6 4zs7 4zv4 4zw2 5a3i 5a6w 5aam 5aaw 5abv 5agw 5agx 5ajj 5ajk 5ayr 5ays 5b3h 5c67 5c6t 5eg3 5f1b 5anm 5aoq 5b64 5b71 5b75 5b76 5b77 5b78 5bk1 5bn5 5bnq 5bo1 5boz 5bqe 5brm 5bt1 5bvp 5bw7 5bw8 5c07 5c08 5c09 5c0a 5c0b 5c0c 5c0n 5c0s 5c3f 5c4v 5c7x 5cd5 5cff 5chv 5cjq\n",
      "\n",
      "Batch 2:\n",
      "5cjs 5cmn 5ctr 5cw7 5cx3 5cxb 5cyk 5czf 5czv 5czx 5d1k 5d1l 5d1m 5d1q 5d1x 5d1z 5d28 5d2l 5d2n 5d3f 5d3i 5d50 5d5m 5d70 5d71 5d72 5d7i 5d7j 5d7l 5d8j 5d93 5d96 5dc4 5dcq 5dfv 5dfw 5dh9 5dha 5di9 5djt 5dju 5dmi 5dmj 5do2 5dob 5drz 5dwu 5e3e 5e4e 5e6j 5e6p 5e7f 5e8d 5e8e 5e94 5e95 5e9d 5eb1 5edv 5ee4 5ee5 5eib 5eiv 5ejc 5elu 5eo9 5eoa 5eof 5ep6 5eql 5et1 5eu6 5eyp 5ezo 5f3b 5f3x 5f4e 5f5o 5f5s 5f6k 5fcu 5ffo 5fhx 5fo8 5fo9 5foa 5fob 5fqd 5fr1 5fr2 5ft8 5fug 5fv2 5fvk 5fw5 5fzt 5g1x 5ghw 5gim 5gjk 5glh 5gpg 5grj 5gtb 5gvi 5gwo 5gwp 5gy2 5gzn 5gzo 5h07 5h3j 5hho 5iia 5ij0 5ij9 5j3d 5j3h 5j4a 5jke 5jlv 5h6q 5h6r 5h7y 5hdq 5hgg 5hhm 5hk5 5hlz 5hpk 5hps 5hpy 5hvf 5hvg 5hxb 5hyc 5hys 5i5k 5ibk 5ibl 5ibw 5ies 5ifs 5igx 5ikc 5imk 5imm 5imt 5imy 5inb 5ioh 5ip4 5itz 5ius 5ivx 5ixd 5j11 5j13 5j28 5j56 5j57 5j7c 5j8h 5jdo 5jds 5jem 5jg6 5jh5 5jhf 5jhl 5jhw 5jmc 5jq6 5jsb 5jsn 5jtl 5jtm 5jtn 5jto 5jtp 5jtq 5jtr 5jw7 5jw9 5jyl 5jze 5k22 5k59 5k8q 5kho 5kn5 5knm 5kov 5ks9 5ksa 5ksb 5kvd 5kve 5kvf 5kvg 5kw9 5kwy 5kxh 5ky0 5ky4 5ky5 5ky9 5l2k 5l6n 5l6y 5l8j 5lcv 5ma6 5mad 5mak 5me5 5mtj 5mtm 5mtn 5mu3 5mv8 5mv9 5lgk 5lhn 5li1 5lp5 5lpu 5lqb 5lrw 5lxm 5lxq 5lz3 5lz6 5m2i 5m2j 5m2m 5m36 5m5e 5m72 5ma3 5ma4 5ma5 5men 5mfc 5mhs 5mi0 5mj3 5mjy 5mk0 5ml9 5mn2 5mr4 5mr5 5mrv 5my6 5mzv 5n47 5n48 5n4w 5n7w 5n88 5nan 5ngv 5nh3 5nhu 5nmv 5nnp 5npo 5nqf 5nqg 5nqw 5nt1 5nt7 5nus 5nvk 5nvl 5nvm 5nvn 5o74 5o76 5o90 5nwm 5nzz 5o03 5o05 5o0w 5o2s 5o2t 5o2u 5o4e 5oaq 5oc7 5odw 5oen 5ohm 5ohp 5omb 5omm 5omn 5ona 5oo6 5oob 5osh 5otj 5otx 5ovw 5oy9 5oyl 5sv3 5sws 5swz 5sx4 5sx5 5sxp 5sy8 5szh 5szi 5szj 5szk 5t0f 5t1d 5t29 5t5b 5t5f 5t5w 5t6l 5tar 5tdy 5te4 5te6 5te7 5tez 5tfw 5tgh 5th9 5thp 5tl6 5tl7 5toj 5tp6 5tru 5tte 5tuv 5tvq 5twa 5tz2 5tzn 5tzp 5tzq 5tzt 5u4k 5u4m 5u4y 5u52 5u8q 5ua4 5ufe 5ufq 5uk5 5un5 5un7 5upk 5uq3 5ush 5usl 5utz 5uul 5uv8 5uwc 5uwh 5uwo 5uwq 5uws 5uwu 5uzu 5v52 5v5g 5v5h 5v5i 5v5v 5v62 5v69 5v6a 5vag 5vcb 5vey 5vkl 5vko 5vmm 5xnp 5xoc 6fp7 6fq0 5vob 5vpg 5vpl 5vt9 5vu0 5vwx 5vwy 5vx0 5vx2 5vx3 5vxz 5vyf 5vz4 5vzm 5w06 5w08 5w0k 5w1m 5w1t 5w3x 5w42 5w6g 5w89 5w8t 5w9a 5wb7 5wb8 5wgg 5whk 5wi9 5wko 5wos 5wpa 5wql 5wrv 5wt9 5wuj 5wux 5wvo 5wy2 5x0w 5x4l 5x60 5xbf 5xco 5xda 5xeq 5xfs 5xis 5xiu 5xj3 5xj4 5xjg 5xku 5xmh 5xod 5xot 5xov 5xqz 5xsq 5xv8 5xwd 5xwt 5xxy 5y11 5y1z 5y4r 5yc5 5ydr 5yi8 5yip 5yir 5yis 5yoy 5yqz 5yr0 5ywo 5ywp 5ywr 5z78 5zxv 6a0z 6a67 6aaf 6amb 6ana 6and 6ani 6aod 6aqr 6arq 6asr 6atk 6avf 6avg 6aw2 6azp 6azz 6b05 6b08 6b0a 6b0e 6b0g 6b0s 6b12 6b3m 6b3s 6b6u 6b8n 6b9j 6ba6 6bb4 6bck 6bf4 6bit 6bkb 6bkc 6bkd 6blh 6bli 6bmt 6brs 6bva 6bx4 6bx5 6bxa 6bxc 6byh 6c16 6c48 6c74 6cbp 6ce9 6ch2 6ch3 6cmg 6co2 6cql 6cqn 6cqq 6cqr 6cwt 6d01 6d13 6ddm 6ddr 6ddv 6dmx 6dnq 6dsl 6e2p 6e3i 6e3j 6e62 6e63 6eg0 6eg1 6ehg 6ejg 6ejm 6eyd 6eyo 6f3z 6f9s 6fc2 6fc3 6fe4 6ff3 6fg8 6fgb 6fgo 6fhp 6flb 6flc 6fu9 6fub 6fud 6g04 6g10 6gbg 6gbh 6gbu 6gd5 6gfi 6h06 6h0e 6h9n 6hpr 6hul 6i3f 6ii4 6ii8 6ii9 6imf 6isc 6mft 6mgp 6mhr 6mi2 6mkz 6mlk\n"
     ]
    }
   ],
   "source": [
    "import pandas as pd\n",
    "from pandas import ExcelWriter\n",
    "from pandas import ExcelFile\n",
    "\n",
    "df = pd.read_excel('prot-prot_complexes.xls', sheet_name='MyResult')\n",
    "\n",
    "# print(\"Column headings:\")\n",
    "# print(df.columns)\n",
    "\n",
    "df.info()\n",
    "print()\n",
    "\n",
    "'''\n",
    "Get PDB codes of protein complexes as a space-separated string\n",
    "for downloading the sequences from https://www.rcsb.org/downloads/fasta.*\n",
    "Must get several strings because the strings can be no longer than 1000 pdb codes.\n",
    "\n",
    "*Make sure to select 'Individual FASTA Files' download option.\n",
    "'''\n",
    "\n",
    "pdb_codes = df['PDB code'].tolist()\n",
    "\n",
    "#Divide list into lists of length 1000\n",
    "pdb_codes_div = []\n",
    "for i in range(0, len(pdb_codes), 1000):\n",
    "    if i + 1000 < len(pdb_codes):\n",
    "        pdb_codes_div.append(pdb_codes[i:i+1000])\n",
    "    else:\n",
    "        pdb_codes_div.append(pdb_codes[i:])\n",
    "    \n",
    "#Turn each list into a string\n",
    "pdb_codes_div = [\" \".join(codes) for codes in pdb_codes_div]\n",
    "\n",
    "#Print PDB codes\n",
    "for i in range(len(pdb_codes_div)):\n",
    "    print(\"\\nBatch \" + str(i) + \":\")\n",
    "    print(pdb_codes_div[i])"
   ]
  },
  {
   "cell_type": "code",
   "execution_count": 11,
   "metadata": {},
   "outputs": [
    {
     "name": "stdout",
     "output_type": "stream",
     "text": [
      "731\n",
      "981\n",
      "882\n"
     ]
    }
   ],
   "source": [
    "affins = df['pKd pKi pIC50'].tolist()\n",
    "\n",
    "aff_categorized = []\n",
    "for affin in affins:\n",
    "    if affin < 6:\n",
    "        category = \"low\"\n",
    "    elif affin < 8:\n",
    "        category = \"med\"\n",
    "    else:\n",
    "        category = \"high\"\n",
    "    aff_categorized.append(category)\n",
    "\n",
    "print(aff_categorized.count(\"low\"))\n",
    "print(aff_categorized.count(\"med\"))\n",
    "print(aff_categorized.count(\"high\"))"
   ]
  }
 ],
 "metadata": {
  "kernelspec": {
   "display_name": "Python 3",
   "language": "python",
   "name": "python3"
  },
  "language_info": {
   "codemirror_mode": {
    "name": "ipython",
    "version": 3
   },
   "file_extension": ".py",
   "mimetype": "text/x-python",
   "name": "python",
   "nbconvert_exporter": "python",
   "pygments_lexer": "ipython3",
   "version": "3.7.6"
  }
 },
 "nbformat": 4,
 "nbformat_minor": 2
}
